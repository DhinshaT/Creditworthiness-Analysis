{
 "cells": [
  {
   "cell_type": "markdown",
   "id": "61582495",
   "metadata": {},
   "source": [
    "# Task 2\n",
    "### Model building"
   ]
  },
  {
   "cell_type": "code",
   "execution_count": 1,
   "id": "e2ca66d2",
   "metadata": {},
   "outputs": [],
   "source": [
    "import pandas as pd\n",
    "from sklearn.ensemble import RandomForestClassifier\n",
    "from sklearn.metrics import precision_score, recall_score, f1_score, roc_auc_score, accuracy_score, classification_report\n",
    "from sklearn.metrics import confusion_matrix\n",
    "from sklearn.model_selection import train_test_split\n",
    "from sklearn.tree import DecisionTreeClassifier"
   ]
  },
  {
   "cell_type": "code",
   "execution_count": 20,
   "id": "00c2de49",
   "metadata": {},
   "outputs": [],
   "source": [
    "import numpy as np     # numpy for working with arrays or numerical data\n",
    "import pandas as pd \n",
    "import matplotlib.pyplot as plt  #matplotlib and seaborn were used for data visualization - graph plotting.\n",
    "import seaborn as sns\n",
    "import warnings\n",
    "warnings.filterwarnings(\"ignore\")"
   ]
  },
  {
   "cell_type": "code",
   "execution_count": 4,
   "id": "b2e2fa75",
   "metadata": {},
   "outputs": [],
   "source": [
    "df = pd.read_csv(\"D:/dinsha/++++/data/loan.csv\")"
   ]
  },
  {
   "cell_type": "code",
   "execution_count": 5,
   "id": "f915dedb",
   "metadata": {},
   "outputs": [],
   "source": [
    "applicant = pd.read_csv(\"D:/dinsha/++++/data/applicant.csv\")"
   ]
  },
  {
   "cell_type": "code",
   "execution_count": 6,
   "id": "09e03191",
   "metadata": {},
   "outputs": [
    {
     "data": {
      "text/html": [
       "<div>\n",
       "<style scoped>\n",
       "    .dataframe tbody tr th:only-of-type {\n",
       "        vertical-align: middle;\n",
       "    }\n",
       "\n",
       "    .dataframe tbody tr th {\n",
       "        vertical-align: top;\n",
       "    }\n",
       "\n",
       "    .dataframe thead th {\n",
       "        text-align: right;\n",
       "    }\n",
       "</style>\n",
       "<table border=\"1\" class=\"dataframe\">\n",
       "  <thead>\n",
       "    <tr style=\"text-align: right;\">\n",
       "      <th></th>\n",
       "      <th>loan_application_id</th>\n",
       "      <th>applicant_id</th>\n",
       "      <th>Months_loan_taken_for</th>\n",
       "      <th>Purpose</th>\n",
       "      <th>Principal_loan_amount</th>\n",
       "      <th>EMI_rate_in_percentage_of_disposable_income</th>\n",
       "      <th>Property</th>\n",
       "      <th>Has_coapplicant</th>\n",
       "      <th>Has_guarantor</th>\n",
       "      <th>Other_EMI_plans</th>\n",
       "      <th>...</th>\n",
       "      <th>Housing</th>\n",
       "      <th>Years_at_current_residence</th>\n",
       "      <th>Employment_status</th>\n",
       "      <th>Has_been_employed_for_at_least</th>\n",
       "      <th>Has_been_employed_for_at_most</th>\n",
       "      <th>Telephone</th>\n",
       "      <th>Foreign_worker</th>\n",
       "      <th>Savings_account_balance</th>\n",
       "      <th>Balance_in_existing_bank_account_(lower_limit_of_bucket)</th>\n",
       "      <th>Balance_in_existing_bank_account_(upper_limit_of_bucket)</th>\n",
       "    </tr>\n",
       "  </thead>\n",
       "  <tbody>\n",
       "    <tr>\n",
       "      <th>0</th>\n",
       "      <td>d68d975e-edad-11ea-8761-1d6f9c1ff461</td>\n",
       "      <td>1469590</td>\n",
       "      <td>6</td>\n",
       "      <td>electronic equipment</td>\n",
       "      <td>1169000</td>\n",
       "      <td>4</td>\n",
       "      <td>real estate</td>\n",
       "      <td>0</td>\n",
       "      <td>0</td>\n",
       "      <td>NaN</td>\n",
       "      <td>...</td>\n",
       "      <td>own</td>\n",
       "      <td>4</td>\n",
       "      <td>skilled employee / official</td>\n",
       "      <td>7 years</td>\n",
       "      <td>NaN</td>\n",
       "      <td>Registered under the applicant's name</td>\n",
       "      <td>1</td>\n",
       "      <td>NaN</td>\n",
       "      <td>NaN</td>\n",
       "      <td>0</td>\n",
       "    </tr>\n",
       "    <tr>\n",
       "      <th>1</th>\n",
       "      <td>d68d989e-edad-11ea-b1d5-2bcf65006448</td>\n",
       "      <td>1203873</td>\n",
       "      <td>48</td>\n",
       "      <td>electronic equipment</td>\n",
       "      <td>5951000</td>\n",
       "      <td>2</td>\n",
       "      <td>real estate</td>\n",
       "      <td>0</td>\n",
       "      <td>0</td>\n",
       "      <td>NaN</td>\n",
       "      <td>...</td>\n",
       "      <td>own</td>\n",
       "      <td>2</td>\n",
       "      <td>skilled employee / official</td>\n",
       "      <td>1 year</td>\n",
       "      <td>4 years</td>\n",
       "      <td>NaN</td>\n",
       "      <td>1</td>\n",
       "      <td>Low</td>\n",
       "      <td>0</td>\n",
       "      <td>2 lac</td>\n",
       "    </tr>\n",
       "    <tr>\n",
       "      <th>2</th>\n",
       "      <td>d68d995c-edad-11ea-814a-1b6716782575</td>\n",
       "      <td>1432761</td>\n",
       "      <td>12</td>\n",
       "      <td>education</td>\n",
       "      <td>2096000</td>\n",
       "      <td>2</td>\n",
       "      <td>real estate</td>\n",
       "      <td>0</td>\n",
       "      <td>0</td>\n",
       "      <td>NaN</td>\n",
       "      <td>...</td>\n",
       "      <td>own</td>\n",
       "      <td>3</td>\n",
       "      <td>unskilled - resident</td>\n",
       "      <td>4 years</td>\n",
       "      <td>7 years</td>\n",
       "      <td>NaN</td>\n",
       "      <td>1</td>\n",
       "      <td>Low</td>\n",
       "      <td>NaN</td>\n",
       "      <td>NaN</td>\n",
       "    </tr>\n",
       "    <tr>\n",
       "      <th>3</th>\n",
       "      <td>d68d99fc-edad-11ea-8841-17e8848060ae</td>\n",
       "      <td>1207582</td>\n",
       "      <td>42</td>\n",
       "      <td>FF&amp;E</td>\n",
       "      <td>7882000</td>\n",
       "      <td>2</td>\n",
       "      <td>building society savings agreement/life insurance</td>\n",
       "      <td>0</td>\n",
       "      <td>1</td>\n",
       "      <td>NaN</td>\n",
       "      <td>...</td>\n",
       "      <td>for free</td>\n",
       "      <td>4</td>\n",
       "      <td>skilled employee / official</td>\n",
       "      <td>4 years</td>\n",
       "      <td>7 years</td>\n",
       "      <td>NaN</td>\n",
       "      <td>1</td>\n",
       "      <td>Low</td>\n",
       "      <td>NaN</td>\n",
       "      <td>0</td>\n",
       "    </tr>\n",
       "    <tr>\n",
       "      <th>4</th>\n",
       "      <td>d68d9a92-edad-11ea-9f3d-1f8682db006a</td>\n",
       "      <td>1674436</td>\n",
       "      <td>24</td>\n",
       "      <td>new vehicle</td>\n",
       "      <td>4870000</td>\n",
       "      <td>3</td>\n",
       "      <td>NaN</td>\n",
       "      <td>0</td>\n",
       "      <td>0</td>\n",
       "      <td>NaN</td>\n",
       "      <td>...</td>\n",
       "      <td>for free</td>\n",
       "      <td>4</td>\n",
       "      <td>skilled employee / official</td>\n",
       "      <td>1 year</td>\n",
       "      <td>4 years</td>\n",
       "      <td>NaN</td>\n",
       "      <td>1</td>\n",
       "      <td>Low</td>\n",
       "      <td>NaN</td>\n",
       "      <td>0</td>\n",
       "    </tr>\n",
       "    <tr>\n",
       "      <th>...</th>\n",
       "      <td>...</td>\n",
       "      <td>...</td>\n",
       "      <td>...</td>\n",
       "      <td>...</td>\n",
       "      <td>...</td>\n",
       "      <td>...</td>\n",
       "      <td>...</td>\n",
       "      <td>...</td>\n",
       "      <td>...</td>\n",
       "      <td>...</td>\n",
       "      <td>...</td>\n",
       "      <td>...</td>\n",
       "      <td>...</td>\n",
       "      <td>...</td>\n",
       "      <td>...</td>\n",
       "      <td>...</td>\n",
       "      <td>...</td>\n",
       "      <td>...</td>\n",
       "      <td>...</td>\n",
       "      <td>...</td>\n",
       "      <td>...</td>\n",
       "    </tr>\n",
       "    <tr>\n",
       "      <th>995</th>\n",
       "      <td>d68fbba6-edad-11ea-80fe-30b2f9300e3d</td>\n",
       "      <td>1880194</td>\n",
       "      <td>12</td>\n",
       "      <td>FF&amp;E</td>\n",
       "      <td>1736000</td>\n",
       "      <td>3</td>\n",
       "      <td>real estate</td>\n",
       "      <td>0</td>\n",
       "      <td>0</td>\n",
       "      <td>NaN</td>\n",
       "      <td>...</td>\n",
       "      <td>own</td>\n",
       "      <td>4</td>\n",
       "      <td>unskilled - resident</td>\n",
       "      <td>4 years</td>\n",
       "      <td>7 years</td>\n",
       "      <td>NaN</td>\n",
       "      <td>1</td>\n",
       "      <td>Low</td>\n",
       "      <td>NaN</td>\n",
       "      <td>NaN</td>\n",
       "    </tr>\n",
       "    <tr>\n",
       "      <th>996</th>\n",
       "      <td>d68fbc28-edad-11ea-bc62-4240ac0824fa</td>\n",
       "      <td>1114064</td>\n",
       "      <td>30</td>\n",
       "      <td>used vehicle</td>\n",
       "      <td>3857000</td>\n",
       "      <td>4</td>\n",
       "      <td>building society savings agreement/life insurance</td>\n",
       "      <td>0</td>\n",
       "      <td>0</td>\n",
       "      <td>NaN</td>\n",
       "      <td>...</td>\n",
       "      <td>own</td>\n",
       "      <td>4</td>\n",
       "      <td>management / self-employed / highly qualified ...</td>\n",
       "      <td>1 year</td>\n",
       "      <td>4 years</td>\n",
       "      <td>Registered under the applicant's name</td>\n",
       "      <td>1</td>\n",
       "      <td>Low</td>\n",
       "      <td>NaN</td>\n",
       "      <td>0</td>\n",
       "    </tr>\n",
       "    <tr>\n",
       "      <th>997</th>\n",
       "      <td>d68fbcaa-edad-11ea-aafc-2de1139e42cd</td>\n",
       "      <td>1758046</td>\n",
       "      <td>12</td>\n",
       "      <td>electronic equipment</td>\n",
       "      <td>804000</td>\n",
       "      <td>4</td>\n",
       "      <td>car or other</td>\n",
       "      <td>0</td>\n",
       "      <td>0</td>\n",
       "      <td>NaN</td>\n",
       "      <td>...</td>\n",
       "      <td>own</td>\n",
       "      <td>4</td>\n",
       "      <td>skilled employee / official</td>\n",
       "      <td>7 years</td>\n",
       "      <td>NaN</td>\n",
       "      <td>NaN</td>\n",
       "      <td>1</td>\n",
       "      <td>Low</td>\n",
       "      <td>NaN</td>\n",
       "      <td>NaN</td>\n",
       "    </tr>\n",
       "    <tr>\n",
       "      <th>998</th>\n",
       "      <td>d68fbd2c-edad-11ea-b49e-2894666f2df6</td>\n",
       "      <td>1824545</td>\n",
       "      <td>45</td>\n",
       "      <td>electronic equipment</td>\n",
       "      <td>1845000</td>\n",
       "      <td>4</td>\n",
       "      <td>NaN</td>\n",
       "      <td>0</td>\n",
       "      <td>0</td>\n",
       "      <td>NaN</td>\n",
       "      <td>...</td>\n",
       "      <td>for free</td>\n",
       "      <td>4</td>\n",
       "      <td>skilled employee / official</td>\n",
       "      <td>1 year</td>\n",
       "      <td>4 years</td>\n",
       "      <td>Registered under the applicant's name</td>\n",
       "      <td>1</td>\n",
       "      <td>Low</td>\n",
       "      <td>NaN</td>\n",
       "      <td>0</td>\n",
       "    </tr>\n",
       "    <tr>\n",
       "      <th>999</th>\n",
       "      <td>d68fbdae-edad-11ea-a2ea-1c661d77d225</td>\n",
       "      <td>1660770</td>\n",
       "      <td>45</td>\n",
       "      <td>used vehicle</td>\n",
       "      <td>4576000</td>\n",
       "      <td>3</td>\n",
       "      <td>car or other</td>\n",
       "      <td>0</td>\n",
       "      <td>0</td>\n",
       "      <td>NaN</td>\n",
       "      <td>...</td>\n",
       "      <td>own</td>\n",
       "      <td>4</td>\n",
       "      <td>skilled employee / official</td>\n",
       "      <td>NaN</td>\n",
       "      <td>0 year</td>\n",
       "      <td>NaN</td>\n",
       "      <td>1</td>\n",
       "      <td>Medium</td>\n",
       "      <td>0</td>\n",
       "      <td>2 lac</td>\n",
       "    </tr>\n",
       "  </tbody>\n",
       "</table>\n",
       "<p>1000 rows × 27 columns</p>\n",
       "</div>"
      ],
      "text/plain": [
       "                      loan_application_id  applicant_id  \\\n",
       "0    d68d975e-edad-11ea-8761-1d6f9c1ff461       1469590   \n",
       "1    d68d989e-edad-11ea-b1d5-2bcf65006448       1203873   \n",
       "2    d68d995c-edad-11ea-814a-1b6716782575       1432761   \n",
       "3    d68d99fc-edad-11ea-8841-17e8848060ae       1207582   \n",
       "4    d68d9a92-edad-11ea-9f3d-1f8682db006a       1674436   \n",
       "..                                    ...           ...   \n",
       "995  d68fbba6-edad-11ea-80fe-30b2f9300e3d       1880194   \n",
       "996  d68fbc28-edad-11ea-bc62-4240ac0824fa       1114064   \n",
       "997  d68fbcaa-edad-11ea-aafc-2de1139e42cd       1758046   \n",
       "998  d68fbd2c-edad-11ea-b49e-2894666f2df6       1824545   \n",
       "999  d68fbdae-edad-11ea-a2ea-1c661d77d225       1660770   \n",
       "\n",
       "     Months_loan_taken_for               Purpose  Principal_loan_amount  \\\n",
       "0                        6  electronic equipment                1169000   \n",
       "1                       48  electronic equipment                5951000   \n",
       "2                       12             education                2096000   \n",
       "3                       42                  FF&E                7882000   \n",
       "4                       24           new vehicle                4870000   \n",
       "..                     ...                   ...                    ...   \n",
       "995                     12                  FF&E                1736000   \n",
       "996                     30          used vehicle                3857000   \n",
       "997                     12  electronic equipment                 804000   \n",
       "998                     45  electronic equipment                1845000   \n",
       "999                     45          used vehicle                4576000   \n",
       "\n",
       "     EMI_rate_in_percentage_of_disposable_income  \\\n",
       "0                                              4   \n",
       "1                                              2   \n",
       "2                                              2   \n",
       "3                                              2   \n",
       "4                                              3   \n",
       "..                                           ...   \n",
       "995                                            3   \n",
       "996                                            4   \n",
       "997                                            4   \n",
       "998                                            4   \n",
       "999                                            3   \n",
       "\n",
       "                                              Property  Has_coapplicant  \\\n",
       "0                                          real estate                0   \n",
       "1                                          real estate                0   \n",
       "2                                          real estate                0   \n",
       "3    building society savings agreement/life insurance                0   \n",
       "4                                                  NaN                0   \n",
       "..                                                 ...              ...   \n",
       "995                                        real estate                0   \n",
       "996  building society savings agreement/life insurance                0   \n",
       "997                                       car or other                0   \n",
       "998                                                NaN                0   \n",
       "999                                       car or other                0   \n",
       "\n",
       "     Has_guarantor Other_EMI_plans  ...   Housing Years_at_current_residence  \\\n",
       "0                0             NaN  ...       own                          4   \n",
       "1                0             NaN  ...       own                          2   \n",
       "2                0             NaN  ...       own                          3   \n",
       "3                1             NaN  ...  for free                          4   \n",
       "4                0             NaN  ...  for free                          4   \n",
       "..             ...             ...  ...       ...                        ...   \n",
       "995              0             NaN  ...       own                          4   \n",
       "996              0             NaN  ...       own                          4   \n",
       "997              0             NaN  ...       own                          4   \n",
       "998              0             NaN  ...  for free                          4   \n",
       "999              0             NaN  ...       own                          4   \n",
       "\n",
       "                                     Employment_status  \\\n",
       "0                          skilled employee / official   \n",
       "1                          skilled employee / official   \n",
       "2                                 unskilled - resident   \n",
       "3                          skilled employee / official   \n",
       "4                          skilled employee / official   \n",
       "..                                                 ...   \n",
       "995                               unskilled - resident   \n",
       "996  management / self-employed / highly qualified ...   \n",
       "997                        skilled employee / official   \n",
       "998                        skilled employee / official   \n",
       "999                        skilled employee / official   \n",
       "\n",
       "     Has_been_employed_for_at_least Has_been_employed_for_at_most  \\\n",
       "0                           7 years                           NaN   \n",
       "1                            1 year                       4 years   \n",
       "2                           4 years                       7 years   \n",
       "3                           4 years                       7 years   \n",
       "4                            1 year                       4 years   \n",
       "..                              ...                           ...   \n",
       "995                         4 years                       7 years   \n",
       "996                          1 year                       4 years   \n",
       "997                         7 years                           NaN   \n",
       "998                          1 year                       4 years   \n",
       "999                             NaN                        0 year   \n",
       "\n",
       "                                 Telephone  Foreign_worker  \\\n",
       "0    Registered under the applicant's name               1   \n",
       "1                                      NaN               1   \n",
       "2                                      NaN               1   \n",
       "3                                      NaN               1   \n",
       "4                                      NaN               1   \n",
       "..                                     ...             ...   \n",
       "995                                    NaN               1   \n",
       "996  Registered under the applicant's name               1   \n",
       "997                                    NaN               1   \n",
       "998  Registered under the applicant's name               1   \n",
       "999                                    NaN               1   \n",
       "\n",
       "    Savings_account_balance  \\\n",
       "0                       NaN   \n",
       "1                       Low   \n",
       "2                       Low   \n",
       "3                       Low   \n",
       "4                       Low   \n",
       "..                      ...   \n",
       "995                     Low   \n",
       "996                     Low   \n",
       "997                     Low   \n",
       "998                     Low   \n",
       "999                  Medium   \n",
       "\n",
       "     Balance_in_existing_bank_account_(lower_limit_of_bucket)  \\\n",
       "0                                                  NaN          \n",
       "1                                                    0          \n",
       "2                                                  NaN          \n",
       "3                                                  NaN          \n",
       "4                                                  NaN          \n",
       "..                                                 ...          \n",
       "995                                                NaN          \n",
       "996                                                NaN          \n",
       "997                                                NaN          \n",
       "998                                                NaN          \n",
       "999                                                  0          \n",
       "\n",
       "    Balance_in_existing_bank_account_(upper_limit_of_bucket)  \n",
       "0                                                    0        \n",
       "1                                                2 lac        \n",
       "2                                                  NaN        \n",
       "3                                                    0        \n",
       "4                                                    0        \n",
       "..                                                 ...        \n",
       "995                                                NaN        \n",
       "996                                                  0        \n",
       "997                                                NaN        \n",
       "998                                                  0        \n",
       "999                                              2 lac        \n",
       "\n",
       "[1000 rows x 27 columns]"
      ]
     },
     "execution_count": 6,
     "metadata": {},
     "output_type": "execute_result"
    }
   ],
   "source": [
    "data = pd.merge(df,applicant,on='applicant_id')\n",
    "data"
   ]
  },
  {
   "cell_type": "code",
   "execution_count": 7,
   "id": "d8bcb14e",
   "metadata": {},
   "outputs": [],
   "source": [
    "df = data.drop(['Telephone', 'Other_EMI_plans', 'Balance_in_existing_bank_account_(lower_limit_of_bucket)', 'Balance_in_existing_bank_account_(upper_limit_of_bucket)', 'Has_been_employed_for_at_most'],axis =1)"
   ]
  },
  {
   "cell_type": "code",
   "execution_count": 8,
   "id": "0f7bcca3",
   "metadata": {},
   "outputs": [],
   "source": [
    "df1 = df.dropna(subset = ['Property', 'Savings_account_balance', 'Has_been_employed_for_at_least','Purpose'])"
   ]
  },
  {
   "cell_type": "code",
   "execution_count": null,
   "id": "674153c8",
   "metadata": {},
   "outputs": [],
   "source": []
  },
  {
   "cell_type": "code",
   "execution_count": 9,
   "id": "07b67099",
   "metadata": {},
   "outputs": [],
   "source": [
    "# copying the original dataset into X\n",
    "X=df1\n",
    "# droping building_id and dependent variable damage_grade\n",
    "# independant variables\n",
    "X=X.drop([\"high_risk_applicant\",\"applicant_id\",\"loan_application_id\"],axis=1)\n",
    "# dependent variable\n",
    "y=df1[\"high_risk_applicant\"]"
   ]
  },
  {
   "cell_type": "code",
   "execution_count": 21,
   "id": "754b765e",
   "metadata": {
    "scrolled": true
   },
   "outputs": [],
   "source": [
    "# dependent variable\n",
    "y=df1[\"high_risk_applicant\"]\n",
    "# label encoding the categorical variables\n",
    "label_encoding_columns=['Employment_status', 'Purpose', 'Property',\n",
    "       'Loan_history', 'Savings_account_balance',\n",
    "       'Housing', 'Marital_status', 'Gender', 'Has_been_employed_for_at_least']\n",
    "# label encoding categorical columns in train dataset \n",
    "for i in label_encoding_columns:\n",
    "    X[i]=X[i].astype(\"category\")\n",
    "    X[i]=X[i].cat.codes\n",
    "# label encoding categorical columns in test dataset\n",
    "for j in label_encoding_columns:\n",
    "    df1[j]=df1[j].astype(\"category\")\n",
    "    df1[j]=df1[j].cat.codes"
   ]
  },
  {
   "cell_type": "code",
   "execution_count": 11,
   "id": "82a68827",
   "metadata": {},
   "outputs": [],
   "source": [
    "x_train, x_test,y_train, y_test = train_test_split(X,y,test_size = 0.20,random_state = 42)"
   ]
  },
  {
   "cell_type": "markdown",
   "id": "c80bb6d3",
   "metadata": {},
   "source": [
    "# Decision Tree Classifier"
   ]
  },
  {
   "cell_type": "code",
   "execution_count": 12,
   "id": "b11f2e4f",
   "metadata": {},
   "outputs": [],
   "source": [
    "dt = DecisionTreeClassifier(random_state=0)"
   ]
  },
  {
   "cell_type": "code",
   "execution_count": 13,
   "id": "58c26291",
   "metadata": {},
   "outputs": [
    {
     "data": {
      "text/plain": [
       "DecisionTreeClassifier(random_state=0)"
      ]
     },
     "execution_count": 13,
     "metadata": {},
     "output_type": "execute_result"
    }
   ],
   "source": [
    "dt.fit(x_train, y_train)"
   ]
  },
  {
   "cell_type": "code",
   "execution_count": 14,
   "id": "07612ac1",
   "metadata": {},
   "outputs": [],
   "source": [
    "prediction = dt.predict(x_test)"
   ]
  },
  {
   "cell_type": "code",
   "execution_count": 15,
   "id": "ddbe0945",
   "metadata": {},
   "outputs": [
    {
     "data": {
      "text/plain": [
       "array([[75, 25],\n",
       "       [17, 14]], dtype=int64)"
      ]
     },
     "execution_count": 15,
     "metadata": {},
     "output_type": "execute_result"
    }
   ],
   "source": [
    "cm = confusion_matrix(y_test, prediction)\n",
    "cm"
   ]
  },
  {
   "cell_type": "code",
   "execution_count": 16,
   "id": "646fdc9a",
   "metadata": {},
   "outputs": [
    {
     "data": {
      "text/plain": [
       "0.6793893129770993"
      ]
     },
     "execution_count": 16,
     "metadata": {},
     "output_type": "execute_result"
    }
   ],
   "source": [
    "accuracy_score(y_test, prediction)"
   ]
  },
  {
   "cell_type": "code",
   "execution_count": 17,
   "id": "f8bb33e8",
   "metadata": {},
   "outputs": [
    {
     "data": {
      "text/plain": [
       "0.6793893129770993"
      ]
     },
     "execution_count": 17,
     "metadata": {},
     "output_type": "execute_result"
    }
   ],
   "source": [
    "f1_score(y_test,prediction, average=\"micro\")"
   ]
  },
  {
   "cell_type": "code",
   "execution_count": 18,
   "id": "3c1b4bc3",
   "metadata": {},
   "outputs": [
    {
     "name": "stdout",
     "output_type": "stream",
     "text": [
      "classification report for decision tree :\n",
      "\n",
      "               precision    recall  f1-score   support\n",
      "\n",
      "           0       0.82      0.75      0.78       100\n",
      "           1       0.36      0.45      0.40        31\n",
      "\n",
      "    accuracy                           0.68       131\n",
      "   macro avg       0.59      0.60      0.59       131\n",
      "weighted avg       0.71      0.68      0.69       131\n",
      "\n"
     ]
    }
   ],
   "source": [
    "print(\"classification report for decision tree :\\n\\n\",classification_report(y_test, prediction))"
   ]
  },
  {
   "cell_type": "code",
   "execution_count": 22,
   "id": "a4e87225",
   "metadata": {},
   "outputs": [
    {
     "data": {
      "image/png": "[encoded data removed]",
      "text/plain": [
       "<Figure size 576x360 with 2 Axes>"
      ]
     },
     "metadata": {
      "needs_background": "light"
     },
     "output_type": "display_data"
    }
   ],
   "source": [
    "plt.figure(figsize = (8,5))\n",
    "sns.heatmap(cm, annot=True,fmt='d',cmap=\"YlGnBu\")\n",
    "plt.title(\"confusion Matrix for  Random Forest\")\n",
    "plt.xticks(rotation=45)\n",
    "plt.yticks(rotation=360)\n",
    "plt.show()"
   ]
  },
  {
   "cell_type": "markdown",
   "id": "245af3a7",
   "metadata": {},
   "source": [
    "# Random Forest Classifier"
   ]
  },
  {
   "cell_type": "code",
   "execution_count": 23,
   "id": "946c6fc0",
   "metadata": {},
   "outputs": [],
   "source": [
    "clf = RandomForestClassifier(n_estimators = 100, random_state = 18).fit(x_train, y_train)"
   ]
  },
  {
   "cell_type": "code",
   "execution_count": 24,
   "id": "6b789481",
   "metadata": {},
   "outputs": [],
   "source": [
    "prediction = clf.predict(x_test)"
   ]
  },
  {
   "cell_type": "code",
   "execution_count": 25,
   "id": "8474e63a",
   "metadata": {},
   "outputs": [
    {
     "data": {
      "text/plain": [
       "array([[93,  7],\n",
       "       [22,  9]], dtype=int64)"
      ]
     },
     "execution_count": 25,
     "metadata": {},
     "output_type": "execute_result"
    }
   ],
   "source": [
    "cm = confusion_matrix(y_test, prediction)\n",
    "cm"
   ]
  },
  {
   "cell_type": "code",
   "execution_count": 26,
   "id": "8287630a",
   "metadata": {},
   "outputs": [
    {
     "data": {
      "text/plain": [
       "0.7786259541984732"
      ]
     },
     "execution_count": 26,
     "metadata": {},
     "output_type": "execute_result"
    }
   ],
   "source": [
    "accuracy_score(y_test, prediction)"
   ]
  },
  {
   "cell_type": "code",
   "execution_count": 27,
   "id": "1b1bd40e",
   "metadata": {},
   "outputs": [
    {
     "data": {
      "text/plain": [
       "0.7786259541984732"
      ]
     },
     "execution_count": 27,
     "metadata": {},
     "output_type": "execute_result"
    }
   ],
   "source": [
    "f1_score(y_test,prediction, average=\"micro\")"
   ]
  },
  {
   "cell_type": "code",
   "execution_count": 28,
   "id": "0d5d06ad",
   "metadata": {},
   "outputs": [
    {
     "name": "stdout",
     "output_type": "stream",
     "text": [
      "classification report for Random Forest :\n",
      "\n",
      "               precision    recall  f1-score   support\n",
      "\n",
      "           0       0.81      0.93      0.87       100\n",
      "           1       0.56      0.29      0.38        31\n",
      "\n",
      "    accuracy                           0.78       131\n",
      "   macro avg       0.69      0.61      0.62       131\n",
      "weighted avg       0.75      0.78      0.75       131\n",
      "\n"
     ]
    }
   ],
   "source": [
    "print(\"classification report for Random Forest :\\n\\n\",classification_report(y_test, prediction))"
   ]
  },
  {
   "cell_type": "code",
   "execution_count": 29,
   "id": "29c70cb1",
   "metadata": {},
   "outputs": [
    {
     "data": {
      "image/png": "[encoded data removed]",
      "text/plain": [
       "<Figure size 576x360 with 2 Axes>"
      ]
     },
     "metadata": {
      "needs_background": "light"
     },
     "output_type": "display_data"
    }
   ],
   "source": [
    "plt.figure(figsize = (8,5))\n",
    "sns.heatmap(cm, annot=True,fmt='d',cmap=\"YlGnBu\")\n",
    "plt.title(\"confusion Matrix for  Random Forest\")\n",
    "plt.xticks(rotation=45)\n",
    "plt.yticks(rotation=360)\n",
    "plt.show()"
   ]
  },
  {
   "cell_type": "markdown",
   "id": "3434774d",
   "metadata": {},
   "source": [
    "#### Here Random Forest Classifier algorithm able to achieve the F1-score of 0.78 (78%) which is better than decision tree model (68%) "
   ]
  },
  {
   "cell_type": "code",
   "execution_count": null,
   "id": "fc893b65",
   "metadata": {},
   "outputs": [],
   "source": []
  }
 ],
 "metadata": {
  "kernelspec": {
   "display_name": "Python 3 (ipykernel)",
   "language": "python",
   "name": "python3"
  },
  "language_info": {
   "codemirror_mode": {
    "name": "ipython",
    "version": 3
   },
   "file_extension": ".py",
   "mimetype": "text/x-python",
   "name": "python",
   "nbconvert_exporter": "python",
   "pygments_lexer": "ipython3",
   "version": "3.9.12"
  }
 },
 "nbformat": 4,
 "nbformat_minor": 5
}
